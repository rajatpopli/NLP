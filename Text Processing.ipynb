{
 "cells": [
  {
   "cell_type": "code",
   "execution_count": null,
   "id": "af3e5592-205b-4edf-afba-7010524c1bf5",
   "metadata": {},
   "outputs": [],
   "source": [
    "#1. Create a Doc object from the file owlcreek.txt\n",
    "\n",
    "#2. How many tokens are contained in the file?\n",
    "\n",
    "#3. How many sentences are contained in the file?\n",
    "\n",
    "#4. Print the second sentence in the document\n",
    "\n",
    "#5. For each token in the sentence above, print its text, POS tag, dep tag and lemma.\n",
    "\n",
    "#6. Write a matcher called 'Swimming' that finds both occurrences of the phrase \"swimming vigorously\" in the text.\n",
    "\n",
    "#7. Print the text surrounding each found match."
   ]
  },
  {
   "cell_type": "code",
   "execution_count": 1,
   "id": "c316a11b-e6b4-4ddd-b75c-c6cac8634fd7",
   "metadata": {},
   "outputs": [],
   "source": [
    "#1. Create a Doc object from the file owlcreek.txt\n",
    "import spacy"
   ]
  },
  {
   "cell_type": "code",
   "execution_count": 2,
   "id": "eb403b3d-901b-4827-8c67-39874286ea00",
   "metadata": {},
   "outputs": [],
   "source": [
    "nlp = spacy.load(\"en_core_web_sm\")"
   ]
  },
  {
   "cell_type": "code",
   "execution_count": 3,
   "id": "a20077ce-535e-462f-b923-ceb0794e7ffb",
   "metadata": {},
   "outputs": [],
   "source": [
    "with open(\"owlcreek.txt\", \"r\") as file:\n",
    "    text = file.read()"
   ]
  },
  {
   "cell_type": "code",
   "execution_count": 4,
   "id": "127bf093-5d6e-4d68-b684-e95b8b96554a",
   "metadata": {},
   "outputs": [],
   "source": [
    "doc = nlp(text)"
   ]
  },
  {
   "cell_type": "code",
   "execution_count": 7,
   "id": "7c878941-942d-41ac-8201-2c14a75a27a4",
   "metadata": {},
   "outputs": [
    {
     "name": "stdout",
     "output_type": "stream",
     "text": [
      "AN OCCURRENCE AT OWL CREEK BRIDGE\n",
      "\n",
      "by Ambrose Bierce\n",
      "\n",
      "I\n",
      "\n",
      "A man stood upon a railroad bridge in northern Alabama, looking down\n",
      "into the swift water twenty feet below.  The man's hands were behind\n",
      "his back, the wrists bound with a cord.  A rope closely encircled his\n",
      "neck.  It was attached to a stout cross-timber above his head and the\n",
      "slack fell to the level of his knees.  Some loose boards laid upon the\n",
      "ties supporting the rails of the railway supplied a footing for him\n",
      "and his executioners--two private soldiers of the Federal army,\n",
      "directed by a sergeant who in civil life may have been a deputy\n",
      "sheriff.  At a short remove upon the same temporary platform was an\n",
      "officer in the uniform of his rank, armed.  He was a captain.  A\n",
      "sentinel at each end of the bridge stood with his rifle in the\n",
      "position known as \"support,\" that is to say, vertical in front of the\n"
     ]
    }
   ],
   "source": [
    "print(doc[:200])"
   ]
  },
  {
   "cell_type": "code",
   "execution_count": 9,
   "id": "88c1226e-b4bd-47d7-bc73-6f6c7b08731a",
   "metadata": {},
   "outputs": [],
   "source": [
    "#2. How many tokens are contained in the file?\n",
    "num_tokens = len(doc)"
   ]
  },
  {
   "cell_type": "code",
   "execution_count": 10,
   "id": "b896ebae-2631-47c6-a1d9-2d6e49c30391",
   "metadata": {},
   "outputs": [
    {
     "name": "stdout",
     "output_type": "stream",
     "text": [
      "Total number of tokens: 4835\n"
     ]
    }
   ],
   "source": [
    "print(f\"Total number of tokens: {num_tokens}\") "
   ]
  },
  {
   "cell_type": "code",
   "execution_count": 11,
   "id": "ded42380-b843-44d2-9da7-ad3570733f39",
   "metadata": {},
   "outputs": [
    {
     "name": "stdout",
     "output_type": "stream",
     "text": [
      "Total number of sentences: 204\n"
     ]
    }
   ],
   "source": [
    "#3. How many sentences are contained in the file?\n",
    "num_sentences = len(list(doc.sents))\n",
    "\n",
    "print(f\"Total number of sentences: {num_sentences}\")"
   ]
  },
  {
   "cell_type": "code",
   "execution_count": 12,
   "id": "bcfec010-fdc4-4685-b502-abe8636ba5d1",
   "metadata": {},
   "outputs": [
    {
     "name": "stdout",
     "output_type": "stream",
     "text": [
      "The man's hands were behind\n",
      "his back, the wrists bound with a cord.  \n"
     ]
    }
   ],
   "source": [
    "#4. Print the second sentence in the document\n",
    "sentences = list(doc.sents)\n",
    "print(sentences[1].text)"
   ]
  },
  {
   "cell_type": "code",
   "execution_count": 14,
   "id": "b41d1211-e625-446e-ad88-b9e524f61688",
   "metadata": {},
   "outputs": [
    {
     "name": "stdout",
     "output_type": "stream",
     "text": [
      "Text: The, POS: DET, Dep: det, Lemma: the\n",
      "Text: man, POS: NOUN, Dep: poss, Lemma: man\n",
      "Text: 's, POS: PART, Dep: case, Lemma: 's\n",
      "Text: hands, POS: NOUN, Dep: nsubj, Lemma: hand\n",
      "Text: were, POS: AUX, Dep: ROOT, Lemma: be\n",
      "Text: behind, POS: ADP, Dep: prep, Lemma: behind\n",
      "Text: \n",
      ", POS: SPACE, Dep: dep, Lemma: \n",
      "\n",
      "Text: his, POS: PRON, Dep: poss, Lemma: his\n",
      "Text: back, POS: NOUN, Dep: pobj, Lemma: back\n",
      "Text: ,, POS: PUNCT, Dep: punct, Lemma: ,\n",
      "Text: the, POS: DET, Dep: det, Lemma: the\n",
      "Text: wrists, POS: NOUN, Dep: appos, Lemma: wrist\n",
      "Text: bound, POS: VERB, Dep: acl, Lemma: bind\n",
      "Text: with, POS: ADP, Dep: prep, Lemma: with\n",
      "Text: a, POS: DET, Dep: det, Lemma: a\n",
      "Text: cord, POS: NOUN, Dep: pobj, Lemma: cord\n",
      "Text: ., POS: PUNCT, Dep: punct, Lemma: .\n",
      "Text:  , POS: SPACE, Dep: dep, Lemma:  \n"
     ]
    }
   ],
   "source": [
    "#5. For each token in the sentence above, print its text, POS tag, dep tag and lemma.\n",
    "second_sentence = list(doc.sents)[1]\n",
    "\n",
    "for token in second_sentence:\n",
    "    print(f\"Text: {token.text}, POS: {token.pos_}, Dep: {token.dep_}, Lemma: {token.lemma_}\")"
   ]
  },
  {
   "cell_type": "code",
   "execution_count": 15,
   "id": "669e6da3-f3dc-44fa-8d32-b18ab58487b1",
   "metadata": {},
   "outputs": [],
   "source": [
    "#6. Write a matcher called 'Swimming' that finds both occurrences of the phrase \"swimming vigorously\" in the text.\n",
    "from spacy.matcher import Matcher"
   ]
  },
  {
   "cell_type": "code",
   "execution_count": 17,
   "id": "8eeeda7c-194d-4275-a9c1-6b2ae9797603",
   "metadata": {},
   "outputs": [],
   "source": [
    "matcher = Matcher(nlp.vocab)"
   ]
  },
  {
   "cell_type": "code",
   "execution_count": 18,
   "id": "4eb4aa0e-1409-4473-b1f5-94f1ce067708",
   "metadata": {},
   "outputs": [],
   "source": [
    "pattern = [{\"LOWER\":\"swimming\"},{\"LOWER\":\"vigorously\"}]"
   ]
  },
  {
   "cell_type": "code",
   "execution_count": 19,
   "id": "ce81fb6e-bb5a-4331-8b4a-490196899570",
   "metadata": {},
   "outputs": [],
   "source": [
    "matcher.add(\"Swimming\",[pattern])"
   ]
  },
  {
   "cell_type": "code",
   "execution_count": 20,
   "id": "8ac57344-943d-4334-852c-5d731a4583b0",
   "metadata": {},
   "outputs": [],
   "source": [
    "matches = matcher(doc)"
   ]
  },
  {
   "cell_type": "code",
   "execution_count": 21,
   "id": "3da51d98-4099-4cc2-9f6c-638e6f0f1311",
   "metadata": {},
   "outputs": [],
   "source": [
    "for match_id, start, end in matches:\n",
    "    span = doc[start:end]\n",
    "    print(f\"found match:'{span.text}'at position {start}-{end}\")"
   ]
  },
  {
   "cell_type": "code",
   "execution_count": 1,
   "id": "4b3a1676-72a5-4ce9-bf6c-bcef82a83f6b",
   "metadata": {},
   "outputs": [],
   "source": [
    "#7. Print the text surrounding each found match.\n",
    "context_range = 3  "
   ]
  },
  {
   "cell_type": "code",
   "execution_count": null,
   "id": "c10238cc-51bd-4509-9af5-dff6068657e7",
   "metadata": {},
   "outputs": [],
   "source": [
    "for match_id, start, end in matches:\n",
    "    # Define the range for context, ensuring we don't go out of bounds\n",
    "    start_idx = max(start - context_range, 0)  # At least 0\n",
    "    end_idx = min(end + context_range, len(doc))  # At most doc length"
   ]
  },
  {
   "cell_type": "code",
   "execution_count": 5,
   "id": "17c24ff2-20e3-491f-afbf-779f91e0af7c",
   "metadata": {},
   "outputs": [
    {
     "ename": "NameError",
     "evalue": "name 'doc3' is not defined",
     "output_type": "error",
     "traceback": [
      "\u001b[1;31m---------------------------------------------------------------------------\u001b[0m",
      "\u001b[1;31mNameError\u001b[0m                                 Traceback (most recent call last)",
      "Cell \u001b[1;32mIn[5], line 1\u001b[0m\n\u001b[1;32m----> 1\u001b[0m surrounding_text \u001b[38;5;241m=\u001b[39m doc3[start_idx:end_idx]\u001b[38;5;241m.\u001b[39mtext\n",
      "\u001b[1;31mNameError\u001b[0m: name 'doc3' is not defined"
     ]
    }
   ],
   "source": [
    "surrounding_text = doc3[start_idx:end_idx].text"
   ]
  },
  {
   "cell_type": "code",
   "execution_count": null,
   "id": "728392f5-8222-4c1c-bc7f-ff158896dc05",
   "metadata": {},
   "outputs": [],
   "source": [
    "print(f\"Context: {surrounding_text}\")"
   ]
  }
 ],
 "metadata": {
  "kernelspec": {
   "display_name": "Python 3 (ipykernel)",
   "language": "python",
   "name": "python3"
  },
  "language_info": {
   "codemirror_mode": {
    "name": "ipython",
    "version": 3
   },
   "file_extension": ".py",
   "mimetype": "text/x-python",
   "name": "python",
   "nbconvert_exporter": "python",
   "pygments_lexer": "ipython3",
   "version": "3.12.9"
  }
 },
 "nbformat": 4,
 "nbformat_minor": 5
}
